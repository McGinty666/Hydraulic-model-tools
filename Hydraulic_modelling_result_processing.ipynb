{
  "nbformat": 4,
  "nbformat_minor": 0,
  "metadata": {
    "colab": {
      "provenance": [],
      "authorship_tag": "ABX9TyO1ehgZXahAnSAfQYSRqRHz",
      "include_colab_link": true
    },
    "kernelspec": {
      "name": "python3",
      "display_name": "Python 3"
    },
    "language_info": {
      "name": "python"
    }
  },
  "cells": [
    {
      "cell_type": "markdown",
      "metadata": {
        "id": "view-in-github",
        "colab_type": "text"
      },
      "source": [
        "<a href=\"https://colab.research.google.com/github/McGinty666/Hydraulic-model-tools/blob/main/Hydraulic_modelling_result_processing.ipynb\" target=\"_parent\"><img src=\"https://colab.research.google.com/assets/colab-badge.svg\" alt=\"Open In Colab\"/></a>"
      ]
    },
    {
      "cell_type": "code",
      "execution_count": null,
      "metadata": {
        "id": "k-m_HmI6QBIH"
      },
      "outputs": [],
      "source": [
        "import matplotlib.pyplot as plt\n",
        "import pandas as pd\n",
        "from google.colab import files\n",
        "\n",
        "# Upload the file\n",
        "uploaded = files.upload()\n",
        "\n",
        "# Assuming the file is uploaded with the same name\n",
        "file_path = list(uploaded.keys())[0]\n",
        "\n",
        "# Select the storm duration and frequency you want to interrogate\n",
        "RP = 30\n",
        "DUR = 30\n",
        "\n",
        "df = pd.read_excel(file_path, sheet_name='Results', header=0, nrows=17)\n",
        "\n",
        "# Select the names of the scenarios you want\n",
        "s0 = \"M\" + str(RP) + \"-\" + str(DUR) + \" Flood/Lost Volume (m3)\"\n",
        "s1 = \"S2 Online upsize from 6002 M\" + str(RP) + \"-\" + str(DUR) + \" Flood/Lost Volume (m3)\"\n",
        "\n",
        "columns_to_keep = [\"Node ID\", s0, s1]\n",
        "df = df[columns_to_keep]\n",
        "\n",
        "new_df = df.copy()\n",
        "\n",
        "df.fillna(0, inplace=True)\n",
        "df[\"Detriment\"] = df.iloc[:, -1] - df.iloc[:, -2]\n",
        "\n",
        "df.fillna(0, inplace=True)\n",
        "\n",
        "sorted_df = df.sort_values(by='Detriment', ascending=False)\n",
        "\n",
        "df = sorted_df\n",
        "\n",
        "print(df)"
      ]
    }
  ]
}